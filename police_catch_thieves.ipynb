{
  "nbformat": 4,
  "nbformat_minor": 0,
  "metadata": {
    "colab": {
      "name": "police catch thieves.ipynb",
      "provenance": [],
      "collapsed_sections": [],
      "include_colab_link": true
    },
    "kernelspec": {
      "name": "python3",
      "display_name": "Python 3"
    },
    "language_info": {
      "name": "python"
    }
  },
  "cells": [
    {
      "cell_type": "markdown",
      "metadata": {
        "id": "view-in-github",
        "colab_type": "text"
      },
      "source": [
        "<a href=\"https://colab.research.google.com/github/hilaler/police-catch-thieves/blob/main/police_catch_thieves.ipynb\" target=\"_parent\"><img src=\"https://colab.research.google.com/assets/colab-badge.svg\" alt=\"Open In Colab\"/></a>"
      ]
    },
    {
      "cell_type": "markdown",
      "metadata": {
        "id": "wuV_-sZi2mFs"
      },
      "source": [
        "Greedy Algorithms"
      ]
    },
    {
      "cell_type": "code",
      "metadata": {
        "id": "pvX38Q2fXlMS",
        "colab": {
          "base_uri": "https://localhost:8080/"
        },
        "outputId": "19fb22d5-97fa-47e6-f2d9-fe04939a272d"
      },
      "source": [
        "import time\n",
        "start_time = time.time()\n",
        "\n",
        "def policeThief(arr, n, k):\n",
        "\ti = 0\n",
        "\tl = 0\n",
        "\tr = 0\n",
        "\tres = 0\n",
        "\tthi = []\n",
        "\tpol = []\n",
        "\n",
        "\twhile i < n:\n",
        "\t\tif arr[i] == 'P':\n",
        "\t\t\tpol.append(i)\n",
        "\t\telif arr[i] == 'T':\n",
        "\t\t\tthi.append(i)\n",
        "\t\ti += 1\n",
        "\n",
        "\twhile l < len(thi) and r < len(pol):\n",
        "\t\tif (abs( thi[l] - pol[r] ) <= k):\n",
        "\t\t\tres += 1\n",
        "\t\t\tl += 1\n",
        "\t\t\tr += 1\n",
        "  \n",
        "\t\telif thi[l] < pol[r]:\n",
        "\t\t\tl += 1\n",
        "\t\telse:\n",
        "\t\t\tr += 1\n",
        "\n",
        "\treturn res\n",
        "  \n",
        "if __name__=='__main__':\n",
        "\tarr1 = ['P', 'T', 'P', 'T', 'T', 'P', 'T', 'P', 'P', 'T', 'T', 'P', 'P', 'T', 'T', 'T', 'P','P', 'P', 'T', 'T', 'P', 'T', 'P', 'T', 'P', 'T', 'T', 'P', 'T', 'P',\n",
        "         'P', 'T', 'P', 'T', 'T', 'P', 'T', 'P', 'P', 'T']\n",
        "\tk = 3\n",
        "\tn = len(arr1)\n",
        "\tprint((\"Maximum thieves caught: {}\".\n",
        "\t\tformat(policeThief(arr1, n, k))))\n",
        " \n",
        "print(time.time() - start_time)"
      ],
      "execution_count": null,
      "outputs": [
        {
          "output_type": "stream",
          "text": [
            "Maximum thieves caught: 20\n",
            "0.0022950172424316406\n"
          ],
          "name": "stdout"
        }
      ]
    },
    {
      "cell_type": "markdown",
      "metadata": {
        "id": "q9UqqRXK23oB"
      },
      "source": [
        "Brute-Force Algorithms"
      ]
    },
    {
      "cell_type": "code",
      "metadata": {
        "id": "noRn5ksn1LvN",
        "colab": {
          "base_uri": "https://localhost:8080/"
        },
        "outputId": "db3e6eb7-56b4-48eb-8012-4a1aab830e3c"
      },
      "source": [
        "start_time = time.time()\n",
        "\n",
        "initial_arr = ['P', 'T', 'T']\n",
        "arr = initial_arr.copy()\n",
        "k = 1\n",
        "max_catch = 0\n",
        "\n",
        "arr_arrested = []\n",
        "\n",
        "for i in range(len(arr) - k):\n",
        "    for j in range(i, i + k):\n",
        "        for l in range(1, k + 1):\n",
        "            if (arr[j] == 'T' and arr[j + l] == 'P') or (arr[j] == 'P' and arr[j + l] == 'T'):\n",
        "                max_catch += 1\n",
        "                if arr[j] == 'P':\n",
        "                    arr_arrested.append({ \"police\": j + 1, \"thief\": j + l + 1 })\n",
        "                else:\n",
        "                     arr_arrested.append({ \"police\": j + l + 1, \"thief\": j + 1 })\n",
        "                arr[j] ='C'\n",
        "                arr[j + l] = 'C'\n",
        "\n",
        "                \n",
        "print(\"Maximum thieves caught: \", max_catch)\n",
        "print(time.time() - start_time)\n",
        "print(arr_arrested)\n",
        "print(arr)"
      ],
      "execution_count": null,
      "outputs": [
        {
          "output_type": "stream",
          "text": [
            "Maximum thieves caught:  1\n",
            "0.001970529556274414\n",
            "[{'police': 1, 'thief': 2}]\n",
            "['C', 'C', 'T']\n"
          ],
          "name": "stdout"
        }
      ]
    },
    {
      "cell_type": "code",
      "metadata": {
        "id": "XdEppVsaePMM"
      },
      "source": [
        ""
      ],
      "execution_count": null,
      "outputs": []
    }
  ]
}